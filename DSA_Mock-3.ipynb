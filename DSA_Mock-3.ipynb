{
 "cells": [
  {
   "cell_type": "markdown",
   "id": "d136166e",
   "metadata": {},
   "source": [
    "Implement a stack using a list in Python. Include the necessary methods such as push, pop, and isEmpty."
   ]
  },
  {
   "cell_type": "code",
   "execution_count": 1,
   "id": "ba019f57",
   "metadata": {},
   "outputs": [],
   "source": [
    "class Stack:\n",
    "    def __init__(self):\n",
    "        self.stack = []\n",
    "        \n",
    "    def push(self, item):\n",
    "        self.stack.append(item)\n",
    "        \n",
    "    def pop(self):\n",
    "        return self.stack.pop()\n",
    "    \n",
    "    def isEmpty(self):\n",
    "        return len(self.stack) == 0\n",
    "    \n",
    "    def printStack(self):\n",
    "        print(self.stack)\n"
   ]
  },
  {
   "cell_type": "code",
   "execution_count": 2,
   "id": "c070ffe3",
   "metadata": {},
   "outputs": [
    {
     "name": "stdout",
     "output_type": "stream",
     "text": [
      "[20, 30, 40]\n",
      "[20, 30]\n"
     ]
    }
   ],
   "source": [
    "stack = Stack()\n",
    "\n",
    "stack.push(20)\n",
    "stack.push(30)\n",
    "stack.push(40)\n",
    "\n",
    "stack.printStack()\n",
    "\n",
    "stack.pop()\n",
    "\n",
    "stack.printStack()\n"
   ]
  },
  {
   "cell_type": "code",
   "execution_count": null,
   "id": "48800b53",
   "metadata": {},
   "outputs": [],
   "source": []
  },
  {
   "cell_type": "markdown",
   "id": "89d4cd31",
   "metadata": {},
   "source": [
    "Implement a queue using a list in Python. Include the necessary methods such as enqueue, dequeue, and isEmpty."
   ]
  },
  {
   "cell_type": "code",
   "execution_count": 3,
   "id": "4548cc60",
   "metadata": {},
   "outputs": [],
   "source": [
    "class Queue:\n",
    "    def __init__(self):\n",
    "        self.queue = []\n",
    "        \n",
    "    def enqueue(self, item):\n",
    "        self.queue.append(item)\n",
    "        \n",
    "    def dequeue(self):\n",
    "        if not self.isEmpty():\n",
    "            return self.queue.pop(0)\n",
    "        else:\n",
    "            return None\n",
    "        \n",
    "    def isEmpty(self):\n",
    "        return len(self.queue) == 0\n",
    "    \n",
    "    def printQueue(self):\n",
    "        print(self.queue)\n"
   ]
  },
  {
   "cell_type": "code",
   "execution_count": 5,
   "id": "9388a96d",
   "metadata": {},
   "outputs": [
    {
     "name": "stdout",
     "output_type": "stream",
     "text": [
      "[10, 20, 30]\n",
      "[20, 30]\n"
     ]
    }
   ],
   "source": [
    "queue = Queue()\n",
    "\n",
    "queue.enqueue(10)\n",
    "queue.enqueue(20)\n",
    "queue.enqueue(30)\n",
    "\n",
    "queue.printQueue()\n",
    "\n",
    "queue.dequeue()\n",
    "\n",
    "queue.printQueue()\n"
   ]
  },
  {
   "cell_type": "code",
   "execution_count": null,
   "id": "ff4911c9",
   "metadata": {},
   "outputs": [],
   "source": []
  }
 ],
 "metadata": {
  "kernelspec": {
   "display_name": "Python 3 (ipykernel)",
   "language": "python",
   "name": "python3"
  },
  "language_info": {
   "codemirror_mode": {
    "name": "ipython",
    "version": 3
   },
   "file_extension": ".py",
   "mimetype": "text/x-python",
   "name": "python",
   "nbconvert_exporter": "python",
   "pygments_lexer": "ipython3",
   "version": "3.9.13"
  }
 },
 "nbformat": 4,
 "nbformat_minor": 5
}
